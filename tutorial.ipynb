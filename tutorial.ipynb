{
 "cells": [
  {
   "cell_type": "markdown",
   "id": "141ddef2",
   "metadata": {},
   "source": [
    "# R tutorial"
   ]
  },
  {
   "cell_type": "markdown",
   "id": "eb47d0f3",
   "metadata": {},
   "source": [
    "Een boodschap \"printen\". Zoals bij elke programmeertaal start je met de legendarische woorden [\"Hello, World!\"](https://en.wikipedia.org/wiki/%22Hello,_World!%22_program)"
   ]
  },
  {
   "cell_type": "code",
   "execution_count": 1,
   "id": "32d39165",
   "metadata": {},
   "outputs": [
    {
     "name": "stdout",
     "output_type": "stream",
     "text": [
      "[1] \"hello, world\"\n"
     ]
    }
   ],
   "source": [
    "print(\"hello, world\")"
   ]
  },
  {
   "cell_type": "markdown",
   "id": "ef6aa9fb",
   "metadata": {},
   "source": [
    "Commentaar"
   ]
  },
  {
   "cell_type": "code",
   "execution_count": null,
   "id": "b3c80c89",
   "metadata": {},
   "outputs": [],
   "source": [
    "# op deze manier kan je commentaar toevoegen aan je code"
   ]
  },
  {
   "cell_type": "markdown",
   "id": "6a6c0dcc",
   "metadata": {},
   "source": [
    "## Variabelen"
   ]
  },
  {
   "cell_type": "markdown",
   "id": "f3e490ec",
   "metadata": {},
   "source": [
    "Variable definiëren"
   ]
  },
  {
   "cell_type": "code",
   "execution_count": null,
   "id": "2e1432c1",
   "metadata": {},
   "outputs": [],
   "source": [
    "a <- 6"
   ]
  },
  {
   "cell_type": "code",
   "execution_count": null,
   "id": "530fec76",
   "metadata": {},
   "outputs": [],
   "source": [
    "b = 11"
   ]
  },
  {
   "cell_type": "markdown",
   "id": "74d126d2",
   "metadata": {},
   "source": [
    "Waarde gedefiniëerde variable opvragen"
   ]
  },
  {
   "cell_type": "code",
   "execution_count": null,
   "id": "877bf1c1",
   "metadata": {
    "scrolled": true
   },
   "outputs": [],
   "source": [
    "a"
   ]
  },
  {
   "cell_type": "code",
   "execution_count": null,
   "id": "d0af1f63",
   "metadata": {},
   "outputs": [],
   "source": [
    "b"
   ]
  },
  {
   "cell_type": "code",
   "execution_count": null,
   "id": "b34ec412",
   "metadata": {},
   "outputs": [],
   "source": [
    "c"
   ]
  },
  {
   "cell_type": "code",
   "execution_count": null,
   "id": "60b9b023",
   "metadata": {
    "scrolled": true
   },
   "outputs": [],
   "source": [
    "d"
   ]
  },
  {
   "cell_type": "markdown",
   "id": "b59a963f",
   "metadata": {},
   "source": [
    "De variabele _d_ bestaat nog niet. Variabele _c_ heeft al een andere _standaard_ betekenis in R.\n",
    "\n",
    "We (her)definiëren _c_ vanuit _a_ en _b_."
   ]
  },
  {
   "cell_type": "code",
   "execution_count": null,
   "id": "42250ebb",
   "metadata": {},
   "outputs": [],
   "source": [
    "c <- a + b"
   ]
  },
  {
   "cell_type": "code",
   "execution_count": null,
   "id": "05f9e9de",
   "metadata": {},
   "outputs": [],
   "source": [
    "c"
   ]
  },
  {
   "cell_type": "markdown",
   "id": "8ff6285b",
   "metadata": {},
   "source": [
    "Geef nu _a_ of _b_ een andere waarde"
   ]
  },
  {
   "cell_type": "code",
   "execution_count": null,
   "id": "cd4fedd9",
   "metadata": {},
   "outputs": [],
   "source": []
  },
  {
   "cell_type": "markdown",
   "id": "f0c52fa6",
   "metadata": {},
   "source": [
    "Welke waarde heeft _c_?"
   ]
  },
  {
   "cell_type": "code",
   "execution_count": null,
   "id": "3960c659",
   "metadata": {},
   "outputs": [],
   "source": []
  },
  {
   "cell_type": "markdown",
   "id": "5c9b9459",
   "metadata": {},
   "source": [
    "## Vectoren"
   ]
  },
  {
   "cell_type": "code",
   "execution_count": null,
   "id": "882a1461",
   "metadata": {},
   "outputs": [],
   "source": [
    "# een vector 'woonplaatsen' aanmaken die 3 waarden bevat\n",
    "woonplaatsen <- c(\"Almere\", \"Katwijk\", \"Utrecht\")\n",
    "# de waarden van de 'woonplaatsen' vector bekijken\n",
    "woonplaatsen"
   ]
  },
  {
   "cell_type": "code",
   "execution_count": null,
   "id": "585af17a",
   "metadata": {},
   "outputs": [],
   "source": [
    "woonplaatsen[1]"
   ]
  },
  {
   "cell_type": "code",
   "execution_count": null,
   "id": "792a25be",
   "metadata": {},
   "outputs": [],
   "source": []
  },
  {
   "cell_type": "markdown",
   "id": "61f47649",
   "metadata": {},
   "source": [
    "## Dataset"
   ]
  },
  {
   "cell_type": "code",
   "execution_count": null,
   "id": "edd2d15f",
   "metadata": {},
   "outputs": [],
   "source": []
  }
 ],
 "metadata": {
  "kernelspec": {
   "display_name": "R",
   "language": "R",
   "name": "ir"
  },
  "language_info": {
   "codemirror_mode": "r",
   "file_extension": ".r",
   "mimetype": "text/x-r-source",
   "name": "R",
   "pygments_lexer": "r",
   "version": "4.1.3"
  }
 },
 "nbformat": 4,
 "nbformat_minor": 5
}
