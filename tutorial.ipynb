{
 "cells": [
  {
   "cell_type": "code",
   "execution_count": 1,
   "id": "93bf89fd",
   "metadata": {},
   "outputs": [
    {
     "name": "stdout",
     "output_type": "stream",
     "text": [
      "[1] \"Dit is output :)\"\n"
     ]
    }
   ],
   "source": [
    "print(\"Dit is output :)\")"
   ]
  },
  {
   "cell_type": "code",
   "execution_count": 6,
   "id": "2e1432c1",
   "metadata": {},
   "outputs": [],
   "source": [
    "a <- 4\n",
    "b = 11"
   ]
  },
  {
   "cell_type": "code",
   "execution_count": 7,
   "id": "42250ebb",
   "metadata": {},
   "outputs": [],
   "source": [
    "c <- a + b"
   ]
  },
  {
   "cell_type": "code",
   "execution_count": 8,
   "id": "05f9e9de",
   "metadata": {},
   "outputs": [
    {
     "data": {
      "text/html": [
       "15"
      ],
      "text/latex": [
       "15"
      ],
      "text/markdown": [
       "15"
      ],
      "text/plain": [
       "[1] 15"
      ]
     },
     "metadata": {},
     "output_type": "display_data"
    }
   ],
   "source": [
    "c"
   ]
  },
  {
   "cell_type": "code",
   "execution_count": 9,
   "id": "882a1461",
   "metadata": {},
   "outputs": [
    {
     "data": {
      "text/html": [
       "<style>\n",
       ".list-inline {list-style: none; margin:0; padding: 0}\n",
       ".list-inline>li {display: inline-block}\n",
       ".list-inline>li:not(:last-child)::after {content: \"\\00b7\"; padding: 0 .5ex}\n",
       "</style>\n",
       "<ol class=list-inline><li>'Almere'</li><li>'Katwijk'</li><li>'Utrecht'</li></ol>\n"
      ],
      "text/latex": [
       "\\begin{enumerate*}\n",
       "\\item 'Almere'\n",
       "\\item 'Katwijk'\n",
       "\\item 'Utrecht'\n",
       "\\end{enumerate*}\n"
      ],
      "text/markdown": [
       "1. 'Almere'\n",
       "2. 'Katwijk'\n",
       "3. 'Utrecht'\n",
       "\n",
       "\n"
      ],
      "text/plain": [
       "[1] \"Almere\"  \"Katwijk\" \"Utrecht\""
      ]
     },
     "metadata": {},
     "output_type": "display_data"
    }
   ],
   "source": [
    "# een vector 'woonplaatsen' aanmaken die 3 waarden bevat\n",
    "woonplaatsen <- c(\"Almere\", \"Katwijk\", \"Utrecht\")\n",
    "# de waarden van de 'woonplaatsen' vector bekijken\n",
    "woonplaatsen"
   ]
  },
  {
   "cell_type": "code",
   "execution_count": 11,
   "id": "585af17a",
   "metadata": {},
   "outputs": [
    {
     "data": {
      "text/html": [
       "'Almere'"
      ],
      "text/latex": [
       "'Almere'"
      ],
      "text/markdown": [
       "'Almere'"
      ],
      "text/plain": [
       "[1] \"Almere\""
      ]
     },
     "metadata": {},
     "output_type": "display_data"
    }
   ],
   "source": [
    "woonplaatsen[1]"
   ]
  },
  {
   "cell_type": "code",
   "execution_count": null,
   "id": "792a25be",
   "metadata": {},
   "outputs": [],
   "source": []
  }
 ],
 "metadata": {
  "kernelspec": {
   "display_name": "R",
   "language": "R",
   "name": "ir"
  },
  "language_info": {
   "codemirror_mode": "r",
   "file_extension": ".r",
   "mimetype": "text/x-r-source",
   "name": "R",
   "pygments_lexer": "r",
   "version": "4.1.2"
  }
 },
 "nbformat": 4,
 "nbformat_minor": 5
}
