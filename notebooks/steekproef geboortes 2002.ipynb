{
 "cells": [
  {
   "cell_type": "markdown",
   "id": "e1ca86ad",
   "metadata": {},
   "source": [
    "# Steekproef Geboortes 2002"
   ]
  },
  {
   "cell_type": "markdown",
   "id": "d2b9bcb2",
   "metadata": {},
   "source": [
    "Inlezen van de steekproef geboortes 2002"
   ]
  },
  {
   "cell_type": "code",
   "execution_count": null,
   "id": "b8435cff",
   "metadata": {},
   "outputs": [],
   "source": [
    "file <- 'datasets/geboorten2002.xls'"
   ]
  },
  {
   "cell_type": "code",
   "execution_count": null,
   "id": "ed6a9a2a",
   "metadata": {},
   "outputs": [],
   "source": [
    "file"
   ]
  },
  {
   "cell_type": "markdown",
   "id": "6fd38727",
   "metadata": {},
   "source": [
    "We gaan het bestand inlezen in R met de functie `read.csv`."
   ]
  },
  {
   "cell_type": "code",
   "execution_count": null,
   "id": "58863a56",
   "metadata": {},
   "outputs": [],
   "source": [
    "data <- read.csv(file, sep=';')"
   ]
  },
  {
   "cell_type": "code",
   "execution_count": null,
   "id": "9d896494",
   "metadata": {
    "scrolled": true
   },
   "outputs": [],
   "source": [
    "View(data)"
   ]
  },
  {
   "cell_type": "markdown",
   "id": "11c33782",
   "metadata": {},
   "source": [
    "## Beschrijvende statistiek van de steekproef"
   ]
  },
  {
   "cell_type": "code",
   "execution_count": null,
   "id": "aad63ed3",
   "metadata": {},
   "outputs": [],
   "source": [
    "summary(data)"
   ]
  },
  {
   "cell_type": "code",
   "execution_count": null,
   "id": "272f303f",
   "metadata": {},
   "outputs": [],
   "source": [
    "boxplot(data$Duur)\n",
    "boxplot(data$Gew)\n",
    "boxplot(data$Sex)\n",
    "boxplot(data$Lft_m)"
   ]
  },
  {
   "cell_type": "code",
   "execution_count": null,
   "id": "6622e345",
   "metadata": {},
   "outputs": [],
   "source": [
    "hist(data$Duur)\n",
    "hist(data$Gew)\n",
    "hist(data$Sex)\n",
    "hist(data$Lft_m)"
   ]
  },
  {
   "cell_type": "code",
   "execution_count": null,
   "id": "397dcb02",
   "metadata": {},
   "outputs": [],
   "source": []
  }
 ],
 "metadata": {
  "kernelspec": {
   "display_name": "R",
   "language": "R",
   "name": "ir"
  },
  "language_info": {
   "codemirror_mode": "r",
   "file_extension": ".r",
   "mimetype": "text/x-r-source",
   "name": "R",
   "pygments_lexer": "r",
   "version": "4.1.3"
  }
 },
 "nbformat": 4,
 "nbformat_minor": 5
}
