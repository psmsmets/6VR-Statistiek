{
 "cells": [
  {
   "cell_type": "markdown",
   "id": "e1ca86ad",
   "metadata": {},
   "source": [
    "# Steekproef Geboortes 2002"
   ]
  },
  {
   "cell_type": "markdown",
   "id": "d2b9bcb2",
   "metadata": {},
   "source": [
    "Inlezen van de steekproef geboortes 2002"
   ]
  },
  {
   "cell_type": "code",
   "execution_count": null,
   "id": "0ead5d92",
   "metadata": {},
   "outputs": [],
   "source": [
    "library(repr)\n",
    "options(repr.plot.width=6, repr.plot.height=6, repr.plot.res = 200)\n",
    "options(warn=-1)"
   ]
  },
  {
   "cell_type": "code",
   "execution_count": null,
   "id": "b8435cff",
   "metadata": {},
   "outputs": [],
   "source": [
    "file <- '../datasets/geboorten2002.xls'"
   ]
  },
  {
   "cell_type": "code",
   "execution_count": null,
   "id": "ed6a9a2a",
   "metadata": {},
   "outputs": [],
   "source": [
    "file"
   ]
  },
  {
   "cell_type": "markdown",
   "id": "6fd38727",
   "metadata": {},
   "source": [
    "We gaan het bestand inlezen in R met de functie `read.csv`."
   ]
  },
  {
   "cell_type": "code",
   "execution_count": null,
   "id": "58863a56",
   "metadata": {},
   "outputs": [],
   "source": [
    "data <- read.csv(file, sep=';')"
   ]
  },
  {
   "cell_type": "code",
   "execution_count": null,
   "id": "9d896494",
   "metadata": {},
   "outputs": [],
   "source": [
    "View(data)"
   ]
  },
  {
   "cell_type": "markdown",
   "id": "11c33782",
   "metadata": {},
   "source": [
    "## Beschrijvende statistiek van de steekproef"
   ]
  },
  {
   "cell_type": "code",
   "execution_count": null,
   "id": "aad63ed3",
   "metadata": {},
   "outputs": [],
   "source": [
    "summary(data)"
   ]
  },
  {
   "cell_type": "code",
   "execution_count": null,
   "id": "272f303f",
   "metadata": {
    "scrolled": true
   },
   "outputs": [],
   "source": [
    "boxplot(data$Duur, ylab=\"Duur [weken]\")\n",
    "boxplot(data$Gew, ylab=\"Massa [gram]\")\n",
    "boxplot(data$Lft_m, ylab=\"Leeftijd moeder [jaar]\")"
   ]
  },
  {
   "cell_type": "code",
   "execution_count": null,
   "id": "6622e345",
   "metadata": {},
   "outputs": [],
   "source": [
    "freq = TRUE\n",
    "hist(data$Duur, main=\"Zwangerschapsduur\", xlab=\"Duur in weken\", freq=freq)\n",
    "hist(data$Gew, main=\"Massa van de baby\", xlab=\"Massa in gram\", freq=freq)\n",
    "hist(data$Sex, main=\"Geslacht van de baby\", xlab=\"Geslacht\", freq=freq)\n",
    "hist(data$Lft_m, main=\"Leeftijd van de moeder\", xlab=\"Leeftijd in jaren\", freq=freq)"
   ]
  },
  {
   "cell_type": "code",
   "execution_count": null,
   "id": "397dcb02",
   "metadata": {},
   "outputs": [],
   "source": [
    "plot(data)"
   ]
  },
  {
   "cell_type": "code",
   "execution_count": null,
   "id": "3b45aaab",
   "metadata": {
    "scrolled": false
   },
   "outputs": [],
   "source": [
    "plot(\n",
    "    data$Lft_m,\n",
    "    data$Gew,\n",
    "    main = \"Massa - Leeftijd moeder\",\n",
    "    xlab = \"Leeftijd moeder in jaren\",\n",
    "    ylab = \"Massa in gram\"\n",
    ")\n",
    "plot(\n",
    "    data$Lft_m,\n",
    "    data$Duur,\n",
    "    main = \"Zwarngerschapsduur - Leeftijd moeder\",\n",
    "    xlab = \"Leeftijd moeder in jaren\",\n",
    "    ylab = \"Duur in weken\"\n",
    ")\n",
    "plot(\n",
    "    data$Duur,\n",
    "    data$Gew,\n",
    "    main = \"Massa - zwangerschapsduur\",\n",
    "    xlab = \"Duur in weken\",\n",
    "    ylab = \"Massa in gram\",\n",
    "    col = \"purple\",\n",
    "    pch = 19\n",
    ")\n",
    "# abline(\n",
    "#     reg = lm(data$Gew ~ data$Duur),\n",
    "#     col = \"red\",            # Modify color\n",
    "#     lwd = 5,\n",
    "# )"
   ]
  },
  {
   "cell_type": "code",
   "execution_count": null,
   "id": "83b6a2cb-2da1-4bb8-851c-2d5000aa14ec",
   "metadata": {},
   "outputs": [],
   "source": []
  }
 ],
 "metadata": {
  "kernelspec": {
   "display_name": "R",
   "language": "R",
   "name": "ir"
  },
  "language_info": {
   "codemirror_mode": "r",
   "file_extension": ".r",
   "mimetype": "text/x-r-source",
   "name": "R",
   "pygments_lexer": "r",
   "version": "4.1.3"
  }
 },
 "nbformat": 4,
 "nbformat_minor": 5
}
