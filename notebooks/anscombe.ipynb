{
 "cells": [
  {
   "cell_type": "markdown",
   "id": "26891484",
   "metadata": {},
   "source": [
    "# Anscombe"
   ]
  },
  {
   "cell_type": "markdown",
   "id": "63d6fd41",
   "metadata": {},
   "source": [
    "Een typische dataset in statistiek..."
   ]
  },
  {
   "cell_type": "code",
   "execution_count": null,
   "id": "1d35b70f",
   "metadata": {},
   "outputs": [],
   "source": [
    "require(stats); require(graphics)"
   ]
  },
  {
   "cell_type": "markdown",
   "id": "f8a33187",
   "metadata": {},
   "source": [
    "## Samenvatting van de data"
   ]
  },
  {
   "cell_type": "code",
   "execution_count": null,
   "id": "1f606cb1",
   "metadata": {},
   "outputs": [],
   "source": [
    "summary(anscombe)"
   ]
  },
  {
   "cell_type": "markdown",
   "id": "0937f9ef",
   "metadata": {},
   "source": [
    "## Nu wat \"magie\" om de 4 regressies in een lus te doen:"
   ]
  },
  {
   "cell_type": "code",
   "execution_count": null,
   "id": "05a88a47",
   "metadata": {},
   "outputs": [],
   "source": [
    "ff <- y ~ x\n",
    "mods <- setNames(as.list(1:4), paste0(\"lm\", 1:4))\n",
    "for(i in 1:4) {\n",
    "    ff[2:3] <- lapply(paste0(c(\"y\",\"x\"), i), as.name)\n",
    "    ## or   ff[[2]] <- as.name(paste0(\"y\", i))\n",
    "    ##      ff[[3]] <- as.name(paste0(\"x\", i))\n",
    "    mods[[i]] <- lmi <- lm(ff, data = anscombe)\n",
    "    print(anova(lmi))\n",
    "}"
   ]
  },
  {
   "cell_type": "markdown",
   "id": "9e9d0577",
   "metadata": {},
   "source": [
    "## Onderzoek hoe dicht ze bij elkaar liggen (numeriek!)"
   ]
  },
  {
   "cell_type": "code",
   "execution_count": null,
   "id": "8b65fd09",
   "metadata": {},
   "outputs": [],
   "source": [
    "sapply(mods, coef)\n",
    "lapply(mods, function(fm) coef(summary(fm)))"
   ]
  },
  {
   "cell_type": "code",
   "execution_count": null,
   "id": "567134a9",
   "metadata": {},
   "outputs": [],
   "source": []
  },
  {
   "cell_type": "code",
   "execution_count": null,
   "id": "7591b026",
   "metadata": {},
   "outputs": [],
   "source": []
  },
  {
   "cell_type": "code",
   "execution_count": null,
   "id": "82814b89",
   "metadata": {},
   "outputs": [],
   "source": []
  },
  {
   "cell_type": "code",
   "execution_count": null,
   "id": "ec0b4790",
   "metadata": {},
   "outputs": [],
   "source": []
  },
  {
   "cell_type": "code",
   "execution_count": null,
   "id": "1a413ed7",
   "metadata": {},
   "outputs": [],
   "source": []
  },
  {
   "cell_type": "code",
   "execution_count": null,
   "id": "03ec96d2",
   "metadata": {},
   "outputs": [],
   "source": []
  },
  {
   "cell_type": "code",
   "execution_count": null,
   "id": "88eb5aa0",
   "metadata": {},
   "outputs": [],
   "source": []
  },
  {
   "cell_type": "code",
   "execution_count": null,
   "id": "ef7cff10",
   "metadata": {},
   "outputs": [],
   "source": []
  },
  {
   "cell_type": "code",
   "execution_count": null,
   "id": "1d613132",
   "metadata": {},
   "outputs": [],
   "source": []
  },
  {
   "cell_type": "code",
   "execution_count": null,
   "id": "03a59302",
   "metadata": {},
   "outputs": [],
   "source": []
  },
  {
   "cell_type": "markdown",
   "id": "fe04b74c",
   "metadata": {},
   "source": [
    "## Doe nu wat je in de eerste plaats had moeten doen: PLOTTEN"
   ]
  },
  {
   "cell_type": "code",
   "execution_count": null,
   "id": "ecd48f23",
   "metadata": {},
   "outputs": [],
   "source": [
    "op <- par(mfrow = c(2, 2), mar = 0.1+c(4,4,1,1), oma =  c(0, 0, 2, 0))\n",
    "for(i in 1:4) {\n",
    "  ff[2:3] <- lapply(paste0(c(\"y\",\"x\"), i), as.name)\n",
    "  plot(ff, data = anscombe, col = \"red\", pch = 21, bg = \"orange\", cex = 1.2,\n",
    "       xlim = c(3, 19), ylim = c(3, 13))\n",
    "  abline(mods[[i]], col = \"blue\")\n",
    "}\n",
    "mtext(\"Anscombe's 4 Regression data sets\", outer = TRUE, cex = 1.5)\n",
    "par(op)"
   ]
  },
  {
   "cell_type": "markdown",
   "id": "1937a49c",
   "metadata": {},
   "source": [
    "https://en.wikipedia.org/wiki/Anscombe%27s_quartet"
   ]
  },
  {
   "cell_type": "markdown",
   "id": "2d6ec056",
   "metadata": {},
   "source": [
    "https://github.com/jumpingrivers/datasauRus"
   ]
  },
  {
   "cell_type": "code",
   "execution_count": null,
   "id": "0b6a9835",
   "metadata": {},
   "outputs": [],
   "source": []
  }
 ],
 "metadata": {
  "kernelspec": {
   "display_name": "R",
   "language": "R",
   "name": "ir"
  },
  "language_info": {
   "codemirror_mode": "r",
   "file_extension": ".r",
   "mimetype": "text/x-r-source",
   "name": "R",
   "pygments_lexer": "r",
   "version": "4.1.3"
  }
 },
 "nbformat": 4,
 "nbformat_minor": 5
}
