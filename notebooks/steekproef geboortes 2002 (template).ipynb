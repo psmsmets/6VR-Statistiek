{
 "cells": [
  {
   "cell_type": "markdown",
   "id": "e1ca86ad",
   "metadata": {},
   "source": [
    "# Steekproef Geboortes 2002"
   ]
  },
  {
   "cell_type": "markdown",
   "id": "006b00f2-59e3-4709-af3b-de58a827a049",
   "metadata": {},
   "source": [
    "Algemene configuratie van de figuren. (Mag je negeren, maar wel uitvoeren.)"
   ]
  },
  {
   "cell_type": "code",
   "execution_count": null,
   "id": "0ead5d92",
   "metadata": {},
   "outputs": [],
   "source": [
    "library(repr)\n",
    "options(repr.plot.width=6, repr.plot.height=6, repr.plot.res = 200)\n",
    "options(warn=-1)"
   ]
  },
  {
   "cell_type": "markdown",
   "id": "f4256b14-4ddf-4bf2-9185-6422886d554c",
   "metadata": {},
   "source": [
    "## Dataset van de steekproef"
   ]
  },
  {
   "cell_type": "markdown",
   "id": "d2b9bcb2",
   "metadata": {},
   "source": [
    "Inlezen van de steekproef geboortes 2002."
   ]
  },
  {
   "cell_type": "code",
   "execution_count": null,
   "id": "b8435cff",
   "metadata": {},
   "outputs": [],
   "source": [
    "bestand <- '../datasets/geboorten2002.xls'"
   ]
  },
  {
   "cell_type": "code",
   "execution_count": null,
   "id": "ed6a9a2a",
   "metadata": {},
   "outputs": [],
   "source": [
    "bestand"
   ]
  },
  {
   "cell_type": "markdown",
   "id": "6fd38727",
   "metadata": {},
   "source": [
    "We gaan het bestand inlezen in `R` met de functie `read.csv` in de variabele `data`. \n",
    "\n",
    "Deze variabele is van het type `dataset` en bevat alle rijen en kolommen uit het bestand."
   ]
  },
  {
   "cell_type": "code",
   "execution_count": null,
   "id": "58863a56",
   "metadata": {},
   "outputs": [],
   "source": [
    "data <- read.csv(bestand, sep=';')"
   ]
  },
  {
   "cell_type": "markdown",
   "id": "61a4a6f6-9113-4550-9f5f-d203fc2d64d3",
   "metadata": {},
   "source": [
    "Toon de ingelezen dataset met de functie `View`."
   ]
  },
  {
   "cell_type": "code",
   "execution_count": null,
   "id": "9d896494",
   "metadata": {},
   "outputs": [],
   "source": [
    "View(...)"
   ]
  },
  {
   "cell_type": "markdown",
   "id": "f1de24db-af8f-4419-9a8a-cf2531fa2eda",
   "metadata": {},
   "source": [
    "Toon de kolomnamen van de dataset met de functie `names`."
   ]
  },
  {
   "cell_type": "code",
   "execution_count": null,
   "id": "5abdfd12-0adc-4011-9539-de300c2c374f",
   "metadata": {},
   "outputs": [],
   "source": [
    "names(...)"
   ]
  },
  {
   "cell_type": "markdown",
   "id": "11c33782",
   "metadata": {},
   "source": [
    "## Beschrijvende statistiek van de steekproef"
   ]
  },
  {
   "cell_type": "markdown",
   "id": "61a12b81-6595-4556-94dd-58c23c7f95a5",
   "metadata": {},
   "source": [
    "Bereken de mediaan `median` en het gemiddelde `mean` van het geboortegewicht. \n",
    "\n",
    "Selecteer met behulp van het `$`-teken en de kolomnaam de juiste variabele van de dataset (`data`)."
   ]
  },
  {
   "cell_type": "code",
   "execution_count": null,
   "id": "b3e0aafa-a395-4c4d-bc7a-dd07a8f8ccf3",
   "metadata": {},
   "outputs": [],
   "source": [
    "median(...)\n",
    "mean(...)"
   ]
  },
  {
   "cell_type": "markdown",
   "id": "255a933f-b034-48a1-bb4e-c7f66ede73f4",
   "metadata": {},
   "source": [
    "Geef alle beschrijvende statisiek van de hele dataset met behulp van de functie `summary`."
   ]
  },
  {
   "cell_type": "code",
   "execution_count": null,
   "id": "0d35e6c5-332d-4305-888d-54af136796af",
   "metadata": {},
   "outputs": [],
   "source": [
    "summary(...)"
   ]
  },
  {
   "cell_type": "markdown",
   "id": "7b55b3f7-a72e-45d1-9529-454d984bd748",
   "metadata": {},
   "source": [
    "## Figuren van de steekproef"
   ]
  },
  {
   "cell_type": "markdown",
   "id": "278a4b75-7cd7-47c8-a12d-de1a251f3917",
   "metadata": {},
   "source": [
    "Maak een `boxplot` en `histogram` van de nuttige kolommen. Selecteer een kolom met behulp van het `$`-teken, bv `data$Volgnr`."
   ]
  },
  {
   "cell_type": "code",
   "execution_count": null,
   "id": "272f303f",
   "metadata": {},
   "outputs": [],
   "source": [
    "boxplot(data$Volgnr)\n",
    "histogram(data$Volgnr)"
   ]
  },
  {
   "cell_type": "code",
   "execution_count": null,
   "id": "3b99668d-eed3-4685-8df4-ed99f2ee16b5",
   "metadata": {},
   "outputs": [],
   "source": []
  },
  {
   "cell_type": "code",
   "execution_count": null,
   "id": "2bc8bd9a-4df5-4a88-9418-28ff0e0cf848",
   "metadata": {},
   "outputs": [],
   "source": []
  },
  {
   "cell_type": "markdown",
   "id": "72ae5442-09cb-41ce-bb88-dad48656338f",
   "metadata": {},
   "source": [
    "Visualizeer in een keer alle data in de dataset met behulp van de `plot` functie."
   ]
  },
  {
   "cell_type": "code",
   "execution_count": null,
   "id": "397dcb02",
   "metadata": {},
   "outputs": [],
   "source": [
    "plot(...)"
   ]
  },
  {
   "cell_type": "markdown",
   "id": "065270ac-c256-4aff-8336-78702d374bac",
   "metadata": {},
   "source": [
    "Wat je ziet zijn scatterplots van alle variabelen in de dataset tegenover elkaar. \n",
    "\n",
    "Maak een scatterplot met de functie `plot` voor de zinvolle combinaties van de variabelen in de dataset. Je bekomt dus een aparte figuur per combinatie. Benoem je figuur en assen door volgende variabelen te definiëren bij de `plot`-functie:\n",
    "*   `main = \"titel\"`\n",
    "*   `xlab = \"label van de x-as\"`\n",
    "*   `ylab = \"label van de y-as\"`"
   ]
  },
  {
   "cell_type": "code",
   "execution_count": null,
   "id": "3b45aaab",
   "metadata": {},
   "outputs": [],
   "source": [
    "plot(\n",
    "    data$Volgnr,\n",
    "    data$GebJaar,\n",
    "    main = \"titel\",\n",
    "    xlab = \"label van de x-as\",\n",
    "    ylab = \"label van de y-as\"\n",
    ")"
   ]
  },
  {
   "cell_type": "markdown",
   "id": "99fe9ef2",
   "metadata": {},
   "source": [
    "## Bivariate statistiek"
   ]
  },
  {
   "cell_type": "markdown",
   "id": "97e27dac-f2cb-4366-9095-29669b22c39f",
   "metadata": {},
   "source": [
    "De bovenstaande dataset is bivariaat (tweedimensionaal). Het bevat twee variabelen die verwant zijn aan elkaar. Dewelke?"
   ]
  },
  {
   "cell_type": "code",
   "execution_count": null,
   "id": "1cfe1194-675e-4c0c-9420-58aff03d25ed",
   "metadata": {},
   "outputs": [],
   "source": []
  },
  {
   "cell_type": "markdown",
   "id": "5196084a-ff77-42fa-92ed-592c88bdaece",
   "metadata": {},
   "source": [
    "Het doel is om de relatie tussen deze twee variabelen te bepalen. Verdeel hiervoor de dataset in twee subgroepen op basis van de zwangerschapsduur.\n",
    "\n",
    "We leggen de grens op 37 weken, de bovengrens van een vroeggeboorte."
   ]
  },
  {
   "cell_type": "code",
   "execution_count": null,
   "id": "83b6a2cb-2da1-4bb8-851c-2d5000aa14ec",
   "metadata": {},
   "outputs": [],
   "source": [
    "tevroeg = subset(data, data$Duur < 37)\n",
    "normaal = subset(data, data$Duur >= 37)\n",
    "\n",
    "subgroepen = c('< 37 weken', '>= 37 weken')"
   ]
  },
  {
   "cell_type": "markdown",
   "id": "84193e52",
   "metadata": {},
   "source": [
    "Maak boxplots en histogrammen voor de geselecteerde variabelen."
   ]
  },
  {
   "cell_type": "code",
   "execution_count": null,
   "id": "cda34833",
   "metadata": {},
   "outputs": [],
   "source": [
    "boxplot(...)"
   ]
  },
  {
   "cell_type": "code",
   "execution_count": null,
   "id": "be763c5a",
   "metadata": {},
   "outputs": [],
   "source": [
    "hist(...)"
   ]
  },
  {
   "cell_type": "code",
   "execution_count": null,
   "id": "b19b4ecd",
   "metadata": {},
   "outputs": [],
   "source": []
  }
 ],
 "metadata": {
  "kernelspec": {
   "display_name": "R",
   "language": "R",
   "name": "ir"
  },
  "language_info": {
   "codemirror_mode": "r",
   "file_extension": ".r",
   "mimetype": "text/x-r-source",
   "name": "R",
   "pygments_lexer": "r",
   "version": "4.1.3"
  }
 },
 "nbformat": 4,
 "nbformat_minor": 5
}
