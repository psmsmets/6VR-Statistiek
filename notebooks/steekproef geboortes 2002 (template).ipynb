{
 "cells": [
  {
   "cell_type": "markdown",
   "id": "e1ca86ad",
   "metadata": {},
   "source": [
    "# Steekproef Geboortes 2002"
   ]
  },
  {
   "cell_type": "markdown",
   "id": "006b00f2-59e3-4709-af3b-de58a827a049",
   "metadata": {},
   "source": [
    "Algemene configuratie van de figuren. (Mag je negeren, maar wel uitvoeren.)"
   ]
  },
  {
   "cell_type": "code",
   "execution_count": null,
   "id": "0ead5d92",
   "metadata": {},
   "outputs": [],
   "source": [
    "library(repr)\n",
    "options(repr.plot.width=6, repr.plot.height=6, repr.plot.res = 200)\n",
    "options(warn=-1)"
   ]
  },
  {
   "cell_type": "markdown",
   "id": "f4256b14-4ddf-4bf2-9185-6422886d554c",
   "metadata": {},
   "source": [
    "## Dataset van de steekproef"
   ]
  },
  {
   "cell_type": "markdown",
   "id": "d2b9bcb2",
   "metadata": {},
   "source": [
    "Inlezen van de steekproef geboortes 2002."
   ]
  },
  {
   "cell_type": "code",
   "execution_count": null,
   "id": "b8435cff",
   "metadata": {},
   "outputs": [],
   "source": [
    "bestand <- '../datasets/geboorten2002.xls'"
   ]
  },
  {
   "cell_type": "code",
   "execution_count": null,
   "id": "ed6a9a2a",
   "metadata": {},
   "outputs": [],
   "source": [
    "bestand"
   ]
  },
  {
   "cell_type": "markdown",
   "id": "6fd38727",
   "metadata": {},
   "source": [
    "We gaan het bestand inlezen in `R` met de functie `read.csv` in de variabele `data`. \n",
    "\n",
    "Deze variabele is van het type `dataset` en bevat alle rijen en kolommen uit het bestand."
   ]
  },
  {
   "cell_type": "code",
   "execution_count": null,
   "id": "58863a56",
   "metadata": {},
   "outputs": [],
   "source": [
    "data <- read.csv(bestand, sep=';')"
   ]
  },
  {
   "cell_type": "markdown",
   "id": "61a4a6f6-9113-4550-9f5f-d203fc2d64d3",
   "metadata": {},
   "source": [
    "Toon de ingelezen dataset met de functie `View`."
   ]
  },
  {
   "cell_type": "code",
   "execution_count": null,
   "id": "9d896494",
   "metadata": {
    "scrolled": true
   },
   "outputs": [],
   "source": [
    "View(...)"
   ]
  },
  {
   "cell_type": "markdown",
   "id": "f1de24db-af8f-4419-9a8a-cf2531fa2eda",
   "metadata": {},
   "source": [
    "Toon de kolomnamen van de dataset met de functie `names`."
   ]
  },
  {
   "cell_type": "code",
   "execution_count": null,
   "id": "5abdfd12-0adc-4011-9539-de300c2c374f",
   "metadata": {},
   "outputs": [],
   "source": [
    "names(...)"
   ]
  },
  {
   "cell_type": "markdown",
   "id": "11c33782",
   "metadata": {},
   "source": [
    "## Beschrijvende statistiek van de steekproef"
   ]
  },
  {
   "cell_type": "code",
   "execution_count": null,
   "id": "9da7d8db-d30d-4efb-a16b-a0de29320454",
   "metadata": {},
   "outputs": [],
   "source": [
    "mean(data$Gew)\n",
    "median(data$Gew)"
   ]
  },
  {
   "cell_type": "code",
   "execution_count": null,
   "id": "aad63ed3",
   "metadata": {},
   "outputs": [],
   "source": [
    "Bereken de mediaan `median` en het gemiddelde `mean` van het geboortegewicht. \n",
    "\n",
    "Selecteer met behulp van het `$`-teken en de kolomnaam de juiste variabele van de dataset (`data`)."
   ]
  },
  {
   "cell_type": "code",
   "execution_count": null,
   "id": "272f303f",
   "metadata": {},
   "outputs": [],
   "source": [
    "boxplot(data$Volgnr)\n",
    "histogram(data$Volgnr)"
   ]
  },
  {
   "cell_type": "code",
   "execution_count": null,
   "id": "6622e345",
   "metadata": {},
   "outputs": [],
   "source": [
    "Visualizeer in een keer alle data in de dataset met behulp van de `plot` functie."
   ]
  },
  {
   "cell_type": "code",
   "execution_count": null,
   "id": "397dcb02",
   "metadata": {},
   "outputs": [],
   "source": [
    "plot(...)"
   ]
  },
  {
   "cell_type": "markdown",
   "id": "065270ac-c256-4aff-8336-78702d374bac",
   "metadata": {},
   "source": [
    "Wat je ziet zijn scatterplots van alle variabelen in de dataset tegenover elkaar. \n",
    "\n",
    "Maak een scatterplot met de functie `plot` voor de zinvolle combinaties van de variabelen in de dataset. Je bekomt dus een aparte figuur per combinatie. Benoem je figuur en assen door volgende variabelen te definiëren bij de `plot`-functie:\n",
    "*   `main = \"titel\"`\n",
    "*   `xlab = \"label van de x-as\"`\n",
    "*   `ylab = \"label van de y-as\"`"
   ]
  },
  {
   "cell_type": "code",
   "execution_count": null,
   "id": "3b45aaab",
   "metadata": {},
   "outputs": [],
   "source": [
    "plot(\n",
    "    data$Volgnr,\n",
    "    data$GebJaar,\n",
    "    main = \"titel\",\n",
    "    xlab = \"label van de x-as\",\n",
    "    ylab = \"label van de y-as\"\n",
    ")"
   ]
  },
  {
   "cell_type": "markdown",
   "id": "99fe9ef2",
   "metadata": {},
   "source": [
    "## Bivariate statistiek"
   ]
  },
  {
   "cell_type": "markdown",
   "id": "97e27dac-f2cb-4366-9095-29669b22c39f",
   "metadata": {},
   "source": [
    "De bovenstaande dataset is bivariaat (tweedimensionaal). Het bevat twee variabelen die verwant zijn aan elkaar. Dewelke?"
   ]
  },
  {
   "cell_type": "code",
   "execution_count": null,
   "id": "83b6a2cb-2da1-4bb8-851c-2d5000aa14ec",
   "metadata": {},
   "outputs": [],
   "source": [
    "tevroeg = subset(data, data$Duur < 37)\n",
    "normaal = subset(data, data$Duur >= 37)\n",
    "\n",
    "subgroepen = c('< 37 weken', '>= 37 weken')"
   ]
  },
  {
   "cell_type": "markdown",
   "id": "84193e52",
   "metadata": {},
   "source": [
    "Maak boxplots en histogrammen voor de geselecteerde variabelen."
   ]
  },
  {
   "cell_type": "code",
   "execution_count": null,
   "id": "cda34833",
   "metadata": {},
   "outputs": [],
   "source": [
    "boxplot(tevroeg$Duur, normaal$Duur, ylab=\"Duur [weken]\", names=subgroepen)\n",
    "boxplot(tevroeg$Gew, normaal$Gew, ylab=\"Geboortegewicht [gram]\", names=subgroepen)\n",
    "boxplot(tevroeg$Lft_m, normaal$Lft_m, ylab=\"Leeftijd moeder [jaar]\", names=subgroepen)"
   ]
  },
  {
   "cell_type": "markdown",
   "id": "56b4715f",
   "metadata": {},
   "source": [
    "boxplot(...)"
   ]
  },
  {
   "cell_type": "code",
   "execution_count": null,
   "id": "be763c5a",
   "metadata": {},
   "outputs": [],
   "source": [
    "# histogrammen\n",
    "hist(data$Duur, main=\"Zwangerschapsduur\", xlab=\"Duur in weken\")\n",
    "hist(normaal$Duur, add=TRUE, col='blue')\n",
    "hist(tevroeg$Duur, add=TRUE, col='red')\n",
    "\n",
    "# legende\n",
    "legend('topleft', subgroepen, fill=c('red', 'blue'))"
   ]
  },
  {
   "cell_type": "code",
   "execution_count": null,
   "id": "f1c1dbed",
   "metadata": {},
   "outputs": [],
   "source": [
    "# histogrammen\n",
    "hist(data$Gew, main=\"Geboortegewicht\", xlab=\"Massa in gram\")\n",
    "hist(normaal$Gew, add=TRUE, col='blue')\n",
    "hist(tevroeg$Gew, add=TRUE, col='red')\n",
    "\n",
    "# legende\n",
    "legend('topright', subgroepen, fill=c('red', 'blue'))"
   ]
  },
  {
   "cell_type": "code",
   "execution_count": null,
   "id": "1f6d6a1c",
   "metadata": {},
   "outputs": [],
   "source": [
    "# histogrammen\n",
    "hist(data$Sex, main=\"Geslacht van de baby\", xlab=\"Geslacht\")\n",
    "hist(normaal$Sex, add=TRUE, col='blue')\n",
    "hist(tevroeg$Sex, add=TRUE, col='red')\n",
    "\n",
    "# legende\n",
    "legend('top', subgroepen, fill=c('red', 'blue'))"
   ]
  },
  {
   "cell_type": "code",
   "execution_count": null,
   "id": "a9ccfb81",
   "metadata": {},
   "outputs": [],
   "source": [
    "# histogrammen\n",
    "hist(data$Lft_m, main=\"Leeftijd van de moeder\", xlab=\"Leeftijd in jaren\")\n",
    "hist(normaal$Lft_m, add=TRUE, col='blue')\n",
    "hist(tevroeg$Lft_m, add=TRUE, col='red')\n",
    "\n",
    "# legende\n",
    "legend('topright', subgroepen, fill=c('red', 'blue'))"
   ]
  },
  {
   "cell_type": "code",
   "execution_count": null,
   "id": "396415ed-124e-47ac-86d8-562d82dd9972",
   "metadata": {},
   "outputs": [],
   "source": []
  },
  {
   "cell_type": "code",
   "execution_count": null,
   "id": "6be23f6b-a64b-4b3c-a68e-35b4d4818c44",
   "metadata": {},
   "outputs": [],
   "source": []
  }
 ],
 "metadata": {
  "kernelspec": {
   "display_name": "R",
   "language": "R",
   "name": "ir"
  },
  "language_info": {
   "codemirror_mode": "r",
   "file_extension": ".r",
   "mimetype": "text/x-r-source",
   "name": "R",
   "pygments_lexer": "r",
   "version": "4.2.3"
  }
 },
 "nbformat": 4,
 "nbformat_minor": 5
}
