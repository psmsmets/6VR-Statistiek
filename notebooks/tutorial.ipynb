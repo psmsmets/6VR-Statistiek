{
 "cells": [
  {
   "cell_type": "markdown",
   "id": "e1ca86ad",
   "metadata": {},
   "source": [
    "# R tutorial"
   ]
  },
  {
   "cell_type": "markdown",
   "id": "03a85b85",
   "metadata": {},
   "source": [
    "Een boodschap \"printen\". Zoals bij elke programmeertaal start je met de legendarische woorden [\"Hello, World!\"](https://en.wikipedia.org/wiki/%22Hello,_World!%22_program)"
   ]
  },
  {
   "cell_type": "code",
   "execution_count": null,
   "id": "ce7b1332",
   "metadata": {},
   "outputs": [],
   "source": [
    "print(\"hello, world\")"
   ]
  },
  {
   "cell_type": "markdown",
   "id": "5e462b4d",
   "metadata": {},
   "source": [
    "Commentaar toevoegen op een lijn (= code die niet wordt uitgevoerd)."
   ]
  },
  {
   "cell_type": "code",
   "execution_count": null,
   "id": "0d44a6bd",
   "metadata": {},
   "outputs": [],
   "source": [
    "# op deze manier kan je commentaar toevoegen aan je code"
   ]
  },
  {
   "cell_type": "markdown",
   "id": "46b1a45b",
   "metadata": {},
   "source": [
    "## Variabelen"
   ]
  },
  {
   "cell_type": "markdown",
   "id": "533c57bd",
   "metadata": {},
   "source": [
    "Variable definiëren"
   ]
  },
  {
   "cell_type": "code",
   "execution_count": null,
   "id": "2e1432c1",
   "metadata": {},
   "outputs": [],
   "source": [
    "a <- 6"
   ]
  },
  {
   "cell_type": "code",
   "execution_count": null,
   "id": "98ceb96d",
   "metadata": {},
   "outputs": [],
   "source": [
    "b = 11"
   ]
  },
  {
   "cell_type": "markdown",
   "id": "39157883",
   "metadata": {},
   "source": [
    "Waarde gedefiniëerde variable opvragen"
   ]
  },
  {
   "cell_type": "code",
   "execution_count": null,
   "id": "5d4a18e1",
   "metadata": {
    "scrolled": true
   },
   "outputs": [],
   "source": [
    "a"
   ]
  },
  {
   "cell_type": "code",
   "execution_count": null,
   "id": "5c8e2cef",
   "metadata": {},
   "outputs": [],
   "source": [
    "b"
   ]
  },
  {
   "cell_type": "code",
   "execution_count": null,
   "id": "3db4a076",
   "metadata": {},
   "outputs": [],
   "source": [
    "c"
   ]
  },
  {
   "cell_type": "code",
   "execution_count": null,
   "id": "f4502f63",
   "metadata": {
    "scrolled": true
   },
   "outputs": [],
   "source": [
    "d"
   ]
  },
  {
   "cell_type": "markdown",
   "id": "fd4c9e49",
   "metadata": {},
   "source": [
    "De variabele _d_ bestaat nog niet. Variabele _c_ heeft al een andere _standaard_ betekenis in R.\n",
    "\n",
    "We (her)definiëren _c_ vanuit _a_ en _b_."
   ]
  },
  {
   "cell_type": "code",
   "execution_count": null,
   "id": "42250ebb",
   "metadata": {},
   "outputs": [],
   "source": [
    "c <- a + b"
   ]
  },
  {
   "cell_type": "code",
   "execution_count": null,
   "id": "05f9e9de",
   "metadata": {},
   "outputs": [],
   "source": [
    "c"
   ]
  },
  {
   "cell_type": "markdown",
   "id": "cd3134e8",
   "metadata": {},
   "source": [
    "Geef nu _a_ of _b_ een andere waarde"
   ]
  },
  {
   "cell_type": "code",
   "execution_count": null,
   "id": "411ab2b7",
   "metadata": {},
   "outputs": [],
   "source": []
  },
  {
   "cell_type": "markdown",
   "id": "e36fa02b",
   "metadata": {},
   "source": [
    "Welke waarde heeft _c_?"
   ]
  },
  {
   "cell_type": "code",
   "execution_count": null,
   "id": "dfa28909",
   "metadata": {},
   "outputs": [],
   "source": []
  },
  {
   "cell_type": "markdown",
   "id": "de020249",
   "metadata": {},
   "source": [
    "## Vectoren"
   ]
  },
  {
   "cell_type": "code",
   "execution_count": null,
   "id": "882a1461",
   "metadata": {},
   "outputs": [],
   "source": [
    "# een vector 'woonplaatsen' aanmaken die 3 waarden bevat\n",
    "woonplaatsen <- c(\"Almere\", \"Katwijk\", \"Utrecht\")\n",
    "# de waarden van de 'woonplaatsen' vector bekijken\n",
    "woonplaatsen"
   ]
  },
  {
   "cell_type": "code",
   "execution_count": null,
   "id": "585af17a",
   "metadata": {},
   "outputs": [],
   "source": [
    "woonplaatsen[1]"
   ]
  },
  {
   "cell_type": "code",
   "execution_count": null,
   "id": "792a25be",
   "metadata": {},
   "outputs": [],
   "source": []
  },
  {
   "cell_type": "markdown",
   "id": "0241d58b",
   "metadata": {},
   "source": [
    "## Dataset inlezen en verwerken"
   ]
  },
  {
   "cell_type": "code",
   "execution_count": null,
   "id": "b8435cff",
   "metadata": {},
   "outputs": [],
   "source": [
    "file <- 'datasets/geboorten2002.xls'"
   ]
  },
  {
   "cell_type": "code",
   "execution_count": null,
   "id": "ed6a9a2a",
   "metadata": {},
   "outputs": [],
   "source": [
    "file"
   ]
  },
  {
   "cell_type": "markdown",
   "id": "6fd38727",
   "metadata": {},
   "source": [
    "We gaan het bestand inlezen in R met de functie `read.csv`.\n",
    "\n",
    "Typ `help(...)` om uitleg te krijgen over een functie"
   ]
  },
  {
   "cell_type": "code",
   "execution_count": null,
   "id": "fb40f1c0",
   "metadata": {},
   "outputs": [],
   "source": [
    "help(read.csv)"
   ]
  },
  {
   "cell_type": "code",
   "execution_count": null,
   "id": "58863a56",
   "metadata": {},
   "outputs": [],
   "source": [
    "data <- read.csv(file)"
   ]
  },
  {
   "cell_type": "code",
   "execution_count": null,
   "id": "9d896494",
   "metadata": {
    "scrolled": true
   },
   "outputs": [],
   "source": [
    "View(data)"
   ]
  },
  {
   "cell_type": "markdown",
   "id": "2e5f35c1",
   "metadata": {},
   "source": [
    "Hoeveel rijen bevat de dataset?"
   ]
  },
  {
   "cell_type": "code",
   "execution_count": null,
   "id": "1221351e",
   "metadata": {},
   "outputs": [],
   "source": [
    "nrow(data)"
   ]
  },
  {
   "cell_type": "markdown",
   "id": "d933dcda",
   "metadata": {},
   "source": [
    "Hoeveel kolommen bevat de dataset?"
   ]
  },
  {
   "cell_type": "code",
   "execution_count": null,
   "id": "89e6bbd4",
   "metadata": {},
   "outputs": [],
   "source": [
    "ncol(data)"
   ]
  },
  {
   "cell_type": "markdown",
   "id": "31ab468f",
   "metadata": {},
   "source": [
    "Wat zijn de namen van de kolommen?"
   ]
  },
  {
   "cell_type": "code",
   "execution_count": null,
   "id": "c817c058",
   "metadata": {},
   "outputs": [],
   "source": [
    "colnames(data)"
   ]
  },
  {
   "cell_type": "code",
   "execution_count": null,
   "id": "aad63ed3",
   "metadata": {},
   "outputs": [],
   "source": []
  },
  {
   "cell_type": "code",
   "execution_count": null,
   "id": "272f303f",
   "metadata": {},
   "outputs": [],
   "source": []
  },
  {
   "cell_type": "code",
   "execution_count": null,
   "id": "6622e345",
   "metadata": {},
   "outputs": [],
   "source": []
  }
 ],
 "metadata": {
  "kernelspec": {
   "display_name": "R",
   "language": "R",
   "name": "ir"
  },
  "language_info": {
   "codemirror_mode": "r",
   "file_extension": ".r",
   "mimetype": "text/x-r-source",
   "name": "R",
   "pygments_lexer": "r",
   "version": "4.1.3"
  }
 },
 "nbformat": 4,
 "nbformat_minor": 5
}
