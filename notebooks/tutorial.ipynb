{
 "cells": [
  {
   "cell_type": "markdown",
   "id": "e1ca86ad",
   "metadata": {},
   "source": [
    "# R tutorial"
   ]
  },
  {
   "cell_type": "markdown",
   "id": "03a85b85",
   "metadata": {},
   "source": [
    "Een boodschap \"printen\". Zoals bij elke programmeertaal start je met de legendarische woorden [\"Hello, World!\"](https://en.wikipedia.org/wiki/%22Hello,_World!%22_program)"
   ]
  },
  {
   "cell_type": "code",
   "execution_count": null,
   "id": "ce7b1332",
   "metadata": {},
   "outputs": [],
   "source": [
    "print(\"hello, world\")"
   ]
  },
  {
   "cell_type": "markdown",
   "id": "5e462b4d",
   "metadata": {},
   "source": [
    "Commentaar toevoegen op een lijn (= code die niet wordt uitgevoerd)."
   ]
  },
  {
   "cell_type": "code",
   "execution_count": null,
   "id": "0d44a6bd",
   "metadata": {},
   "outputs": [],
   "source": [
    "# op deze manier kan je commentaar toevoegen aan je code"
   ]
  },
  {
   "cell_type": "markdown",
   "id": "46b1a45b",
   "metadata": {},
   "source": [
    "## Variabelen"
   ]
  },
  {
   "cell_type": "markdown",
   "id": "533c57bd",
   "metadata": {},
   "source": [
    "Variable definiëren"
   ]
  },
  {
   "cell_type": "code",
   "execution_count": null,
   "id": "2e1432c1",
   "metadata": {},
   "outputs": [],
   "source": [
    "a <- 6"
   ]
  },
  {
   "cell_type": "code",
   "execution_count": null,
   "id": "98ceb96d",
   "metadata": {},
   "outputs": [],
   "source": [
    "b = 11"
   ]
  },
  {
   "cell_type": "markdown",
   "id": "39157883",
   "metadata": {},
   "source": [
    "Waarde gedefiniëerde variable opvragen"
   ]
  },
  {
   "cell_type": "code",
   "execution_count": null,
   "id": "5d4a18e1",
   "metadata": {
    "scrolled": true
   },
   "outputs": [],
   "source": [
    "a"
   ]
  },
  {
   "cell_type": "code",
   "execution_count": null,
   "id": "5c8e2cef",
   "metadata": {},
   "outputs": [],
   "source": [
    "b"
   ]
  },
  {
   "cell_type": "code",
   "execution_count": null,
   "id": "3db4a076",
   "metadata": {},
   "outputs": [],
   "source": [
    "c"
   ]
  },
  {
   "cell_type": "code",
   "execution_count": null,
   "id": "f4502f63",
   "metadata": {
    "scrolled": true
   },
   "outputs": [],
   "source": [
    "d"
   ]
  },
  {
   "cell_type": "markdown",
   "id": "fd4c9e49",
   "metadata": {},
   "source": [
    "De variabele _d_ bestaat nog niet. Variabele _c_ heeft al een andere _standaard_ betekenis in R.\n",
    "\n",
    "We (her)definiëren _c_ vanuit _a_ en _b_."
   ]
  },
  {
   "cell_type": "code",
   "execution_count": null,
   "id": "42250ebb",
   "metadata": {},
   "outputs": [],
   "source": [
    "c <- a + b"
   ]
  },
  {
   "cell_type": "code",
   "execution_count": null,
   "id": "05f9e9de",
   "metadata": {},
   "outputs": [],
   "source": [
    "c"
   ]
  },
  {
   "cell_type": "markdown",
   "id": "cd3134e8",
   "metadata": {},
   "source": [
    "Geef nu _a_ of _b_ een andere waarde"
   ]
  },
  {
   "cell_type": "code",
   "execution_count": null,
   "id": "411ab2b7",
   "metadata": {},
   "outputs": [],
   "source": []
  },
  {
   "cell_type": "markdown",
   "id": "e36fa02b",
   "metadata": {},
   "source": [
    "Welke waarde heeft _c_?"
   ]
  },
  {
   "cell_type": "code",
   "execution_count": null,
   "id": "dfa28909",
   "metadata": {},
   "outputs": [],
   "source": []
  },
  {
   "cell_type": "markdown",
   "id": "de020249",
   "metadata": {},
   "source": [
    "## Vectoren"
   ]
  },
  {
   "cell_type": "code",
   "execution_count": null,
   "id": "882a1461",
   "metadata": {},
   "outputs": [],
   "source": [
    "# een vector 'woonplaatsen' aanmaken die 3 waarden bevat\n",
    "woonplaatsen <- c(\"Almere\", \"Katwijk\", \"Utrecht\")\n",
    "# de waarden van de 'woonplaatsen' vector bekijken\n",
    "woonplaatsen"
   ]
  },
  {
   "cell_type": "code",
   "execution_count": null,
   "id": "585af17a",
   "metadata": {},
   "outputs": [],
   "source": [
    "woonplaatsen[1]"
   ]
  },
  {
   "cell_type": "code",
   "execution_count": null,
   "id": "792a25be",
   "metadata": {},
   "outputs": [],
   "source": []
  },
  {
   "cell_type": "markdown",
   "id": "0241d58b",
   "metadata": {},
   "source": [
    "## Dataset inlezen en verwerken"
   ]
  },
  {
   "cell_type": "code",
   "execution_count": null,
   "id": "b8435cff",
   "metadata": {},
   "outputs": [],
   "source": [
    "file <- 'datasets/geboorten2002.xls'"
   ]
  },
  {
   "cell_type": "code",
   "execution_count": null,
   "id": "ed6a9a2a",
   "metadata": {},
   "outputs": [],
   "source": [
    "file"
   ]
  },
  {
   "cell_type": "markdown",
   "id": "6fd38727",
   "metadata": {},
   "source": [
    "We gaan het bestand inlezen in R met de functie `read.csv`.\n",
    "\n",
    "Typ `help(...)` om uitleg te krijgen over een functie"
   ]
  },
  {
   "cell_type": "code",
   "execution_count": null,
   "id": "fb40f1c0",
   "metadata": {},
   "outputs": [],
   "source": [
    "help(read.csv)"
   ]
  },
  {
   "cell_type": "code",
   "execution_count": null,
   "id": "58863a56",
   "metadata": {},
   "outputs": [],
   "source": [
    "data <- read.csv(file)"
   ]
  },
  {
   "cell_type": "code",
   "execution_count": null,
   "id": "9d896494",
   "metadata": {
    "scrolled": true
   },
   "outputs": [],
   "source": [
    "View(data)"
   ]
  },
  {
   "cell_type": "markdown",
   "id": "2e5f35c1",
   "metadata": {},
   "source": [
    "Hoeveel rijen bevat de dataset?"
   ]
  },
  {
   "cell_type": "code",
   "execution_count": null,
   "id": "1221351e",
   "metadata": {},
   "outputs": [],
   "source": [
    "nrow(data)"
   ]
  },
  {
   "cell_type": "markdown",
   "id": "d933dcda",
   "metadata": {},
   "source": [
    "Hoeveel kolommen bevat de dataset?"
   ]
  },
  {
   "cell_type": "code",
   "execution_count": null,
   "id": "89e6bbd4",
   "metadata": {},
   "outputs": [],
   "source": [
    "ncol(data)"
   ]
  },
  {
   "cell_type": "markdown",
   "id": "31ab468f",
   "metadata": {},
   "source": [
    "Wat zijn de namen van de kolommen?"
   ]
  },
  {
   "cell_type": "code",
   "execution_count": null,
   "id": "c817c058",
   "metadata": {},
   "outputs": [],
   "source": [
    "colnames(data)"
   ]
  },
  {
   "cell_type": "code",
   "execution_count": null,
   "id": "aad63ed3",
   "metadata": {},
   "outputs": [],
   "source": []
  },
  {
   "cell_type": "code",
   "execution_count": null,
   "id": "272f303f",
   "metadata": {},
   "outputs": [],
   "source": []
  },
  {
   "attachments": {},
   "cell_type": "markdown",
   "id": "395e7b98-4a79-42ce-b87c-97046810f9e6",
   "metadata": {},
   "source": [
    "## opdracht 1\n",
    "\n",
    "Bereken de oppervlakte van een cirkel die een doorsnede van 11 meter heeft."
   ]
  },
  {
   "cell_type": "code",
   "execution_count": 43,
   "id": "610c4b08-66ca-45d9-aef6-887612e407f2",
   "metadata": {},
   "outputs": [
    {
     "name": "stdout",
     "output_type": "stream",
     "text": [
      "[1] 95.03318\n"
     ]
    }
   ],
   "source": [
    "d = 11\n",
    "r = d/2\n",
    "S = pi * r^2\n",
    "\n",
    "print(S)"
   ]
  },
  {
   "cell_type": "markdown",
   "id": "4fb1fd7b-e180-4bd6-93af-427e06f7741e",
   "metadata": {},
   "source": []
  },
  {
   "cell_type": "markdown",
   "id": "141b5559-6849-4f54-bdb6-008e1195daa6",
   "metadata": {},
   "source": [
    "## opdracht 2\n",
    "\n",
    "Gebruik de stelling van Pythagoras om de schuine zijde te berekenen bij een rechthoekige driehoek waarvan de rechthoekszijden 11cm en 4 cm zijn."
   ]
  },
  {
   "cell_type": "code",
   "execution_count": 45,
   "id": "0b4d9624-ecf7-45f7-9ad1-ed8abbb7e829",
   "metadata": {},
   "outputs": [
    {
     "name": "stdout",
     "output_type": "stream",
     "text": [
      "[1] 11.7047\n"
     ]
    }
   ],
   "source": [
    "a = 4\n",
    "b = 11\n",
    "c = sqrt(a^2 + b^2)\n",
    "\n",
    "print(c)"
   ]
  },
  {
   "cell_type": "markdown",
   "id": "243b4a73-b7bb-4835-95ea-54ade8fb6e1f",
   "metadata": {},
   "source": []
  },
  {
   "attachments": {},
   "cell_type": "markdown",
   "id": "000cf125-9b4f-467d-b59e-3857489f7ee1",
   "metadata": {},
   "source": [
    "## opdracht 3\n",
    "\n",
    "Hoeveel geld heb je op je spaarrekening na 25 jaar als je 1000 euro vastzet aan 2% rente EN de spaarrekening 2,70 euro per jaar kost?"
   ]
  },
  {
   "cell_type": "code",
   "execution_count": 61,
   "id": "210ad39f-5de1-4044-9d2a-92f0572b6039",
   "metadata": {},
   "outputs": [],
   "source": [
    "n = 25 # looptijd, in jaar\n",
    "kapitaal = 1000 # startkapitaal, in euro\n",
    "rente = 2 # rente, in procent\n",
    "onkost = 2.70 # onkost, in euro per jaar"
   ]
  },
  {
   "cell_type": "markdown",
   "id": "a32ad358-479d-4b68-a6c8-8a757c77b290",
   "metadata": {},
   "source": [
    "groei"
   ]
  },
  {
   "cell_type": "code",
   "execution_count": 62,
   "id": "2aebf3f1-430c-4359-abf3-68ed29131b02",
   "metadata": {},
   "outputs": [
    {
     "name": "stdout",
     "output_type": "stream",
     "text": [
      "[1] 1.02\n"
     ]
    }
   ],
   "source": [
    "groeifactor = 1 + rente/100\n",
    "print(groeifactor)"
   ]
  },
  {
   "cell_type": "markdown",
   "id": "2248af75-bdb6-4308-8b3b-d89b09717c2f",
   "metadata": {},
   "source": [
    "na 1 jaar sparen"
   ]
  },
  {
   "cell_type": "code",
   "execution_count": 63,
   "id": "037e46b6-ad1a-445b-b039-11457080f171",
   "metadata": {},
   "outputs": [
    {
     "data": {
      "text/html": [
       "1017.3"
      ],
      "text/latex": [
       "1017.3"
      ],
      "text/markdown": [
       "1017.3"
      ],
      "text/plain": [
       "[1] 1017.3"
      ]
     },
     "metadata": {},
     "output_type": "display_data"
    }
   ],
   "source": [
    "kapitaal * groeifactor - onkost"
   ]
  },
  {
   "cell_type": "markdown",
   "id": "86b286cc-fbdf-4f15-9e71-6c308dfdcfbb",
   "metadata": {},
   "source": [
    "na 2 jaar sparen"
   ]
  },
  {
   "cell_type": "code",
   "execution_count": 64,
   "id": "31851ebb-9988-48b8-bc62-5edb6a819944",
   "metadata": {},
   "outputs": [
    {
     "data": {
      "text/html": [
       "1035"
      ],
      "text/latex": [
       "1035"
      ],
      "text/markdown": [
       "1035"
      ],
      "text/plain": [
       "[1] 1035"
      ]
     },
     "metadata": {},
     "output_type": "display_data"
    }
   ],
   "source": [
    "(kapitaal * groeifactor) * groeifactor - onkost * 2"
   ]
  },
  {
   "cell_type": "markdown",
   "id": "48e3fe07-dd06-434b-94d5-1952d3158582",
   "metadata": {},
   "source": [
    "na $n$-jaar sparen"
   ]
  },
  {
   "cell_type": "code",
   "execution_count": 66,
   "id": "2af60e21-fac6-4ecb-92dc-522ac7a8d115",
   "metadata": {},
   "outputs": [],
   "source": [
    "opbrengst = kapitaal * (1 + rente/100 ) ** n - onkost * n\n",
    "winst = opbrengst - kapitaal"
   ]
  },
  {
   "cell_type": "code",
   "execution_count": 67,
   "id": "82fd17c1-0dd7-466e-ad21-210efb41e0c6",
   "metadata": {},
   "outputs": [
    {
     "data": {
      "text/html": [
       "1573.11"
      ],
      "text/latex": [
       "1573.11"
      ],
      "text/markdown": [
       "1573.11"
      ],
      "text/plain": [
       "[1] 1573.11"
      ]
     },
     "metadata": {},
     "output_type": "display_data"
    }
   ],
   "source": [
    "round(opbrengst, 2)"
   ]
  },
  {
   "cell_type": "code",
   "execution_count": 68,
   "id": "3f0535fd-cb29-4c0e-a0c4-28d30431b22c",
   "metadata": {},
   "outputs": [
    {
     "data": {
      "text/html": [
       "'De opbrengst bedraagt € 1573.11, de winst bedraagt €573.11'"
      ],
      "text/latex": [
       "'De opbrengst bedraagt € 1573.11, de winst bedraagt €573.11'"
      ],
      "text/markdown": [
       "'De opbrengst bedraagt € 1573.11, de winst bedraagt €573.11'"
      ],
      "text/plain": [
       "[1] \"De opbrengst bedraagt € 1573.11, de winst bedraagt €573.11\""
      ]
     },
     "metadata": {},
     "output_type": "display_data"
    }
   ],
   "source": [
    "sprintf(\"De opbrengst bedraagt € %.2f, de winst bedraagt €%.2f\", opbrengst, winst)"
   ]
  },
  {
   "cell_type": "markdown",
   "id": "63c6361f-fd89-4fce-8197-7bce66a4e2a8",
   "metadata": {},
   "source": [
    "## Alternatief wanneer je de onkost jaarlijks betaalt met de opbrengst\n",
    "In plaats van elk jaar €2,70 te betalen voor de onkost kan je de onkost ook betalen vanuit de jaarlijkse opbrengst. Je moet dus zelf niet meer bijleggen, het bedrag gaat dan van je jaarlijks kapitaal. De berekening is complexer doordat je grondgetal (kapitaal) continu aangepast wordt. De berekening is [recursief](https://nl.wikipedia.org/wiki/Recursie). Je kan de berekening oplossen door middel van een iteratie, in dit geval een _for-loop_."
   ]
  },
  {
   "cell_type": "code",
   "execution_count": 41,
   "id": "e88a9ca7-d1bb-4bd8-9f4f-d30373068b21",
   "metadata": {},
   "outputs": [
    {
     "name": "stdout",
     "output_type": "stream",
     "text": [
      "[1] \"De opbrengst na jaar 1 bedraagt €1017.30, de winst bedraagt €17.30\"\n",
      "[1] \"De opbrengst na jaar 2 bedraagt €1034.95, de winst bedraagt €34.95\"\n",
      "[1] \"De opbrengst na jaar 3 bedraagt €1052.94, de winst bedraagt €52.94\"\n",
      "[1] \"De opbrengst na jaar 4 bedraagt €1071.30, de winst bedraagt €71.30\"\n",
      "[1] \"De opbrengst na jaar 5 bedraagt €1090.03, de winst bedraagt €90.03\"\n",
      "[1] \"De opbrengst na jaar 6 bedraagt €1109.13, de winst bedraagt €109.13\"\n",
      "[1] \"De opbrengst na jaar 7 bedraagt €1128.61, de winst bedraagt €128.61\"\n",
      "[1] \"De opbrengst na jaar 8 bedraagt €1148.49, de winst bedraagt €148.49\"\n",
      "[1] \"De opbrengst na jaar 9 bedraagt €1168.76, de winst bedraagt €168.76\"\n",
      "[1] \"De opbrengst na jaar 10 bedraagt €1189.43, de winst bedraagt €189.43\"\n",
      "[1] \"De opbrengst na jaar 11 bedraagt €1210.52, de winst bedraagt €210.52\"\n",
      "[1] \"De opbrengst na jaar 12 bedraagt €1232.03, de winst bedraagt €232.03\"\n",
      "[1] \"De opbrengst na jaar 13 bedraagt €1253.97, de winst bedraagt €253.97\"\n",
      "[1] \"De opbrengst na jaar 14 bedraagt €1276.35, de winst bedraagt €276.35\"\n",
      "[1] \"De opbrengst na jaar 15 bedraagt €1299.18, de winst bedraagt €299.18\"\n",
      "[1] \"De opbrengst na jaar 16 bedraagt €1322.46, de winst bedraagt €322.46\"\n",
      "[1] \"De opbrengst na jaar 17 bedraagt €1346.21, de winst bedraagt €346.21\"\n",
      "[1] \"De opbrengst na jaar 18 bedraagt €1370.43, de winst bedraagt €370.43\"\n",
      "[1] \"De opbrengst na jaar 19 bedraagt €1395.14, de winst bedraagt €395.14\"\n",
      "[1] \"De opbrengst na jaar 20 bedraagt €1420.34, de winst bedraagt €420.34\"\n",
      "[1] \"De opbrengst na jaar 21 bedraagt €1446.05, de winst bedraagt €446.05\"\n",
      "[1] \"De opbrengst na jaar 22 bedraagt €1472.27, de winst bedraagt €472.27\"\n",
      "[1] \"De opbrengst na jaar 23 bedraagt €1499.02, de winst bedraagt €499.02\"\n",
      "[1] \"De opbrengst na jaar 24 bedraagt €1526.30, de winst bedraagt €526.30\"\n",
      "[1] \"De opbrengst na jaar 25 bedraagt €1554.12, de winst bedraagt €554.12\"\n"
     ]
    }
   ],
   "source": [
    "kapitaal_ = kapitaal\n",
    "\n",
    "for (jaar in 1:25) {\n",
    "    opbrengst = kapitaal_ * (1 + rente/100) - onkost\n",
    "    winst = opbrengst - kapitaal\n",
    "    print(sprintf(\"De opbrengst na jaar %d bedraagt €%.2f, de winst bedraagt €%.2f\", jaar, opbrengst, winst))\n",
    "    kapitaal_ = opbrengst\n",
    "}"
   ]
  },
  {
   "cell_type": "code",
   "execution_count": null,
   "id": "e448f6bd-98cc-421f-a6b7-6ff2a9d3fca3",
   "metadata": {},
   "outputs": [],
   "source": []
  }
 ],
 "metadata": {
  "kernelspec": {
   "display_name": "R",
   "language": "R",
   "name": "ir"
  },
  "language_info": {
   "codemirror_mode": "r",
   "file_extension": ".r",
   "mimetype": "text/x-r-source",
   "name": "R",
   "pygments_lexer": "r",
   "version": "4.1.3"
  }
 },
 "nbformat": 4,
 "nbformat_minor": 5
}
